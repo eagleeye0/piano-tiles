{
 "cells": [
  {
   "cell_type": "code",
   "execution_count": 5,
   "metadata": {},
   "outputs": [],
   "source": [
    "'''\n",
    "This project uses mouse to play piano tiles automatically.\n",
    "go to this website to start piano tiles\n",
    "https://www.silvergames.com/en/piano-tiles\n",
    "and set scaling to 80%\n",
    "firstly keep mouse position to the left of the screen and run the program.\n",
    "then switch to the website of piano tiles and move the move the mouse to start position \n",
    "and click the start button\n",
    "'''\n",
    "import cv2\n",
    "from PIL import ImageGrab\n",
    "import time\n",
    "from pynput.mouse import Button,Controller\n",
    "import numpy as np\n",
    "from pynput.keyboard import Key,Listener\n",
    "mouse = Controller()\n",
    "keyboard = Listener()"
   ]
  },
  {
   "cell_type": "code",
   "execution_count": 6,
   "metadata": {},
   "outputs": [
    {
     "name": "stdout",
     "output_type": "stream",
     "text": [
      "exited\n"
     ]
    }
   ],
   "source": [
    "time.sleep(2)\n",
    "\n",
    "while mouse.position[0]<400 :\n",
    "    1\n",
    "\n",
    "while mouse.position[0]>350 :\n",
    "    s = cv2.cvtColor(np.array(ImageGrab.grab()), cv2.COLOR_BGR2GRAY)\n",
    "    for i in {550,650,800,900}:\n",
    "        for j in {687}:\n",
    "            if(s[j,i]<50):\n",
    "                mouse.move(i/1.25-mouse.position[0],j/1.25-mouse.position[1])\n",
    "                mouse.click(Button.left,1)\n",
    "print('exit')"
   ]
  },
  {
   "cell_type": "code",
   "execution_count": 2,
   "metadata": {},
   "outputs": [],
   "source": []
  }
 ],
 "metadata": {
  "kernelspec": {
   "display_name": "Python 3",
   "language": "python",
   "name": "python3"
  },
  "language_info": {
   "codemirror_mode": {
    "name": "ipython",
    "version": 3
   },
   "file_extension": ".py",
   "mimetype": "text/x-python",
   "name": "python",
   "nbconvert_exporter": "python",
   "pygments_lexer": "ipython3",
   "version": "3.7.3"
  }
 },
 "nbformat": 4,
 "nbformat_minor": 2
}
